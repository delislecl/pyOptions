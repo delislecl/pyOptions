{
 "cells": [
  {
   "cell_type": "markdown",
   "metadata": {},
   "source": [
    "## Parameters"
   ]
  },
  {
   "cell_type": "code",
   "execution_count": 19,
   "metadata": {
    "collapsed": true
   },
   "outputs": [],
   "source": [
    "import pandas as pd\n",
    "import numpy as np\n",
    "import pyOptions\n",
    "import time\n",
    "\n",
    "#Options parameters\n",
    "S = 200\n",
    "K = 220\n",
    "T = 2*252\n",
    "sigma = 0.25\n",
    "r = 0.05\n",
    "typ = 'C'\n",
    "div = 0.03"
   ]
  },
  {
   "cell_type": "markdown",
   "metadata": {},
   "source": [
    "## Black & Scholes"
   ]
  },
  {
   "cell_type": "code",
   "execution_count": 24,
   "metadata": {},
   "outputs": [
    {
     "name": "stdout",
     "output_type": "stream",
     "text": [
      "Price with no dividends : 28.47\n",
      "Price with dividends : 22.15 \n",
      "\n",
      "Implied volatility with no dividends : 25.00%\n",
      "Implied volatility with dividends : 25.00% \n",
      "\n",
      "Delta with no div : 0.575\n",
      "Gamma with no div : 0.006\n",
      "Theta with no div : -0.045\n",
      "Vega with no div : 1.108 \n",
      "\n",
      "Delta with div : 0.479\n",
      "Gamma with div : 0.005\n",
      "Theta with div : -0.030\n",
      "Vega with div : 1.062\n"
     ]
    }
   ],
   "source": [
    "BS = pyOptions.Black_Scholes()\n",
    "\n",
    "opt_price = BS.pricing(S, K, T, r, sigma, typ)\n",
    "print('Price with no dividends : {price:.2f}'.format(price=opt_price))\n",
    "\n",
    "opt_price_div = BS.pricing(S, K, T, r, sigma, typ, div)\n",
    "print('Price with dividends : {price:.2f} \\n'.format(price=opt_price_div))\n",
    "\n",
    "iv = BS.implied_vol(S, K, T, r, typ, opt_price)\n",
    "print('Implied volatility with no dividends : {iv:.2%}'.format(iv=iv))\n",
    "\n",
    "iv_div = BS.implied_vol(S, K, T, r, typ, opt_price_div, div)\n",
    "print('Implied volatility with dividends : {iv:.2%} \\n'.format(iv=iv_div))\n",
    "\n",
    "delta, gamma, theta, vega = BS.greeks(S, K, T, r, sigma, typ, greek='all')\n",
    "print('Delta with no div : {greek:.3f}'.format(greek=delta))\n",
    "print('Gamma with no div : {greek:.3f}'.format(greek=float(gamma)))\n",
    "print('Theta with no div : {greek:.3f}'.format(greek=float(theta)))\n",
    "print('Vega with no div : {greek:.3f} \\n'.format(greek=float(vega)))\n",
    "\n",
    "delta_div, gamma_div, theta_div, vega_div = BS.greeks(S, K, T, r, sigma, typ, div, greek='all')\n",
    "print('Delta with div : {greek:.3f}'.format(greek=delta_div))\n",
    "print('Gamma with div : {greek:.3f}'.format(greek=gamma_div))\n",
    "print('Theta with div : {greek:.3f}'.format(greek=theta_div))\n",
    "print('Vega with div : {greek:.3f}'.format(greek=vega_div))"
   ]
  },
  {
   "cell_type": "markdown",
   "metadata": {},
   "source": [
    "## Binomial Trees"
   ]
  },
  {
   "cell_type": "code",
   "execution_count": 9,
   "metadata": {},
   "outputs": [
    {
     "name": "stdout",
     "output_type": "stream",
     "text": [
      "European call price with no dividends : 28.47\n",
      "American call price with no dividends : 28.47\n",
      "European put price with no dividends : 27.53\n",
      "American put price with no dividends : 31.57 \n",
      "\n",
      "Implied volatility american put with no dividends : 25.00% \n",
      "\n",
      "American call delta with no div : 0.570\n",
      "American call gamma with no div : 0.005\n",
      "American call theta with no div : -0.045\n",
      "American call vega with no div : 1.104\n"
     ]
    }
   ],
   "source": [
    "BT = pyOptions.Binomial_Tree()\n",
    "\n",
    "opt_price1 = BT.pricing(S, K, T, r, sigma, typ, american=False, time_steps=1000)\n",
    "print('European call price with no dividends : {price:.2f}'.format(price=opt_price1))\n",
    "\n",
    "opt_price2 = BT.pricing(S, K, T, r, sigma, typ, american=True, time_steps=1000)\n",
    "print('American call price with no dividends : {price:.2f}'.format(price=opt_price2))\n",
    "\n",
    "opt_price3 = BT.pricing(S, K, T, r, sigma, 'P', american=False)\n",
    "print('European put price with no dividends : {price:.2f}'.format(price=opt_price3))\n",
    "\n",
    "opt_price4 = BT.pricing(S, K, T, r, sigma, 'P', american=True)\n",
    "print('American put price with no dividends : {price:.2f} \\n'.format(price=opt_price4))\n",
    "\n",
    "iv = BT.implied_vol(S, K, T, r, 'P', opt_price4, american=True)\n",
    "print('Implied volatility american put with no dividends : {iv:.2%} \\n'.format(iv=iv)) \n",
    "\n",
    "delta, gamma, theta, vega = BT.greeks(S, K, T, r, sigma, typ, greek='all', american=True)\n",
    "print('American call delta with no div : {greek:.3f}'.format(greek=delta))\n",
    "print('American call gamma with no div : {greek:.3f}'.format(greek=gamma))\n",
    "print('American call theta with no div : {greek:.3f}'.format(greek=theta))\n",
    "print('American call vega with no div : {greek:.3f}'.format(greek=vega))"
   ]
  },
  {
   "cell_type": "markdown",
   "metadata": {
    "collapsed": true
   },
   "source": [
    "## Monte Carlo"
   ]
  },
  {
   "cell_type": "code",
   "execution_count": 41,
   "metadata": {},
   "outputs": [
    {
     "name": "stdout",
     "output_type": "stream",
     "text": [
      "Price with no dividends : 28.18\n",
      "Price with dividends : 21.90 \n",
      "\n",
      "Implied volatility with no dividends : 25.00%\n",
      "Implied volatility with dividends : 25.00% \n",
      "\n",
      "Delta with no div : 0.572\n",
      "Gamma with no div : 0.006\n",
      "Theta with no div : -0.044\n",
      "Vega with no div : 1.094 \n",
      "\n",
      "Delta with div : 0.475\n",
      "Gamma with div : 0.005\n",
      "Theta with div : -0.029\n",
      "Vega with div : 1.049\n"
     ]
    }
   ],
   "source": [
    "MC = pyOptions.Monte_Carlo()\n",
    "\n",
    "#(Optional) All simulations will be base on same random generation pattern\n",
    "random_seed = int(time.time())\n",
    "\n",
    "opt_price = MC.pricing(S, K, T, r, sigma, typ, iterations=100000, time_steps=100, random_seed=random_seed)\n",
    "print('Price with no dividends : {price:.2f}'.format(price=opt_price))\n",
    "\n",
    "opt_price_div = MC.pricing(S, K, T, r, sigma, typ, div, random_seed=random_seed)\n",
    "print('Price with dividends : {price:.2f} \\n'.format(price=opt_price_div))\n",
    "\n",
    "iv = MC.implied_vol(S, K, T, r, typ, opt_price, random_seed=random_seed)\n",
    "print('Implied volatility with no dividends : {iv:.2%}'.format(iv=iv))\n",
    "\n",
    "iv_div = MC.implied_vol(S, K, T, r, typ, opt_price_div, div, random_seed=random_seed)\n",
    "print('Implied volatility with dividends : {iv:.2%} \\n'.format(iv=iv_div))\n",
    "\n",
    "delta, gamma, theta, vega = MC.greeks(S, K, T, r, sigma, typ, greek='all', random_seed=random_seed)\n",
    "print('Delta with no div : {greek:.3f}'.format(greek=delta))\n",
    "print('Gamma with no div : {greek:.3f}'.format(greek=float(gamma)))\n",
    "print('Theta with no div : {greek:.3f}'.format(greek=float(theta)))\n",
    "print('Vega with no div : {greek:.3f} \\n'.format(greek=float(vega)))\n",
    "\n",
    "delta_div, gamma_div, theta_div, vega_div = MC.greeks(S, K, T, r, sigma, typ, div, greek='all', random_seed=random_seed)\n",
    "print('Delta with div : {greek:.3f}'.format(greek=delta_div))\n",
    "print('Gamma with div : {greek:.3f}'.format(greek=gamma_div))\n",
    "print('Theta with div : {greek:.3f}'.format(greek=theta_div))\n",
    "print('Vega with div : {greek:.3f}'.format(greek=vega_div))\n"
   ]
  },
  {
   "cell_type": "code",
   "execution_count": null,
   "metadata": {
    "collapsed": true
   },
   "outputs": [],
   "source": []
  }
 ],
 "metadata": {
  "kernelspec": {
   "display_name": "Python 3",
   "language": "python",
   "name": "python3"
  },
  "language_info": {
   "codemirror_mode": {
    "name": "ipython",
    "version": 3
   },
   "file_extension": ".py",
   "mimetype": "text/x-python",
   "name": "python",
   "nbconvert_exporter": "python",
   "pygments_lexer": "ipython3",
   "version": "3.6.1"
  }
 },
 "nbformat": 4,
 "nbformat_minor": 1
}
