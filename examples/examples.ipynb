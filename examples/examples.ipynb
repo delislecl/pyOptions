{
 "cells": [
  {
   "cell_type": "markdown",
   "metadata": {},
   "source": [
    "# Examples"
   ]
  },
  {
   "cell_type": "markdown",
   "metadata": {},
   "source": [
    "## Parameters"
   ]
  },
  {
   "cell_type": "code",
   "execution_count": 46,
   "metadata": {
    "collapsed": true
   },
   "outputs": [],
   "source": [
    "import pandas as pd\n",
    "import numpy as np\n",
    "import pyOptions\n",
    "import time\n",
    "import datetime as dt\n",
    "\n",
    "#Options parameters\n",
    "S = 200\n",
    "K = 220\n",
    "T = 2*252\n",
    "sigma = 0.25\n",
    "r = 0.05\n",
    "typ = 'C'\n",
    "div = 0.03"
   ]
  },
  {
   "cell_type": "markdown",
   "metadata": {},
   "source": [
    "## Black & Scholes"
   ]
  },
  {
   "cell_type": "code",
   "execution_count": 24,
   "metadata": {},
   "outputs": [
    {
     "name": "stdout",
     "output_type": "stream",
     "text": [
      "Price with no dividends : 28.47\n",
      "Price with dividends : 22.15 \n",
      "\n",
      "Implied volatility with no dividends : 25.00%\n",
      "Implied volatility with dividends : 25.00% \n",
      "\n",
      "Delta with no div : 0.575\n",
      "Gamma with no div : 0.006\n",
      "Theta with no div : -0.045\n",
      "Vega with no div : 1.108 \n",
      "\n",
      "Delta with div : 0.479\n",
      "Gamma with div : 0.005\n",
      "Theta with div : -0.030\n",
      "Vega with div : 1.062\n"
     ]
    }
   ],
   "source": [
    "BS = pyOptions.Black_Scholes()\n",
    "\n",
    "opt_price = BS.pricing(S, K, T, r, sigma, typ)\n",
    "print('Price with no dividends : {price:.2f}'.format(price=opt_price))\n",
    "\n",
    "opt_price_div = BS.pricing(S, K, T, r, sigma, typ, div)\n",
    "print('Price with dividends : {price:.2f} \\n'.format(price=opt_price_div))\n",
    "\n",
    "iv = BS.implied_vol(S, K, T, r, typ, opt_price)\n",
    "print('Implied volatility with no dividends : {iv:.2%}'.format(iv=iv))\n",
    "\n",
    "iv_div = BS.implied_vol(S, K, T, r, typ, opt_price_div, div)\n",
    "print('Implied volatility with dividends : {iv:.2%} \\n'.format(iv=iv_div))\n",
    "\n",
    "delta, gamma, theta, vega = BS.greeks(S, K, T, r, sigma, typ, greek='all')\n",
    "print('Delta with no div : {greek:.3f}'.format(greek=delta))\n",
    "print('Gamma with no div : {greek:.3f}'.format(greek=float(gamma)))\n",
    "print('Theta with no div : {greek:.3f}'.format(greek=float(theta)))\n",
    "print('Vega with no div : {greek:.3f} \\n'.format(greek=float(vega)))\n",
    "\n",
    "delta_div, gamma_div, theta_div, vega_div = BS.greeks(S, K, T, r, sigma, typ, div, greek='all')\n",
    "print('Delta with div : {greek:.3f}'.format(greek=delta_div))\n",
    "print('Gamma with div : {greek:.3f}'.format(greek=gamma_div))\n",
    "print('Theta with div : {greek:.3f}'.format(greek=theta_div))\n",
    "print('Vega with div : {greek:.3f}'.format(greek=vega_div))"
   ]
  },
  {
   "cell_type": "markdown",
   "metadata": {},
   "source": [
    "## Binomial Trees"
   ]
  },
  {
   "cell_type": "code",
   "execution_count": 9,
   "metadata": {},
   "outputs": [
    {
     "name": "stdout",
     "output_type": "stream",
     "text": [
      "European call price with no dividends : 28.47\n",
      "American call price with no dividends : 28.47\n",
      "European put price with no dividends : 27.53\n",
      "American put price with no dividends : 31.57 \n",
      "\n",
      "Implied volatility american put with no dividends : 25.00% \n",
      "\n",
      "American call delta with no div : 0.570\n",
      "American call gamma with no div : 0.005\n",
      "American call theta with no div : -0.045\n",
      "American call vega with no div : 1.104\n"
     ]
    }
   ],
   "source": [
    "BT = pyOptions.Binomial_Tree()\n",
    "\n",
    "opt_price1 = BT.pricing(S, K, T, r, sigma, typ, american=False, time_steps=1000)\n",
    "print('European call price with no dividends : {price:.2f}'.format(price=opt_price1))\n",
    "\n",
    "opt_price2 = BT.pricing(S, K, T, r, sigma, typ, american=True, time_steps=1000)\n",
    "print('American call price with no dividends : {price:.2f}'.format(price=opt_price2))\n",
    "\n",
    "opt_price3 = BT.pricing(S, K, T, r, sigma, 'P', american=False)\n",
    "print('European put price with no dividends : {price:.2f}'.format(price=opt_price3))\n",
    "\n",
    "opt_price4 = BT.pricing(S, K, T, r, sigma, 'P', american=True)\n",
    "print('American put price with no dividends : {price:.2f} \\n'.format(price=opt_price4))\n",
    "\n",
    "iv = BT.implied_vol(S, K, T, r, 'P', opt_price4, american=True)\n",
    "print('Implied volatility american put with no dividends : {iv:.2%} \\n'.format(iv=iv)) \n",
    "\n",
    "delta, gamma, theta, vega = BT.greeks(S, K, T, r, sigma, typ, greek='all', american=True)\n",
    "print('American call delta with no div : {greek:.3f}'.format(greek=delta))\n",
    "print('American call gamma with no div : {greek:.3f}'.format(greek=gamma))\n",
    "print('American call theta with no div : {greek:.3f}'.format(greek=theta))\n",
    "print('American call vega with no div : {greek:.3f}'.format(greek=vega))"
   ]
  },
  {
   "cell_type": "markdown",
   "metadata": {
    "collapsed": true
   },
   "source": [
    "## Monte Carlo"
   ]
  },
  {
   "cell_type": "code",
   "execution_count": 41,
   "metadata": {},
   "outputs": [
    {
     "name": "stdout",
     "output_type": "stream",
     "text": [
      "Price with no dividends : 28.18\n",
      "Price with dividends : 21.90 \n",
      "\n",
      "Implied volatility with no dividends : 25.00%\n",
      "Implied volatility with dividends : 25.00% \n",
      "\n",
      "Delta with no div : 0.572\n",
      "Gamma with no div : 0.006\n",
      "Theta with no div : -0.044\n",
      "Vega with no div : 1.094 \n",
      "\n",
      "Delta with div : 0.475\n",
      "Gamma with div : 0.005\n",
      "Theta with div : -0.029\n",
      "Vega with div : 1.049\n"
     ]
    }
   ],
   "source": [
    "MC = pyOptions.Monte_Carlo()\n",
    "\n",
    "#(Optional) All simulations will be base on same random generation pattern\n",
    "random_seed = int(time.time())\n",
    "\n",
    "opt_price = MC.pricing(S, K, T, r, sigma, typ, iterations=100000, time_steps=100, random_seed=random_seed)\n",
    "print('Price with no dividends : {price:.2f}'.format(price=opt_price))\n",
    "\n",
    "opt_price_div = MC.pricing(S, K, T, r, sigma, typ, div, random_seed=random_seed)\n",
    "print('Price with dividends : {price:.2f} \\n'.format(price=opt_price_div))\n",
    "\n",
    "iv = MC.implied_vol(S, K, T, r, typ, opt_price, random_seed=random_seed)\n",
    "print('Implied volatility with no dividends : {iv:.2%}'.format(iv=iv))\n",
    "\n",
    "iv_div = MC.implied_vol(S, K, T, r, typ, opt_price_div, div, random_seed=random_seed)\n",
    "print('Implied volatility with dividends : {iv:.2%} \\n'.format(iv=iv_div))\n",
    "\n",
    "delta, gamma, theta, vega = MC.greeks(S, K, T, r, sigma, typ, greek='all', random_seed=random_seed)\n",
    "print('Delta with no div : {greek:.3f}'.format(greek=delta))\n",
    "print('Gamma with no div : {greek:.3f}'.format(greek=float(gamma)))\n",
    "print('Theta with no div : {greek:.3f}'.format(greek=float(theta)))\n",
    "print('Vega with no div : {greek:.3f} \\n'.format(greek=float(vega)))\n",
    "\n",
    "delta_div, gamma_div, theta_div, vega_div = MC.greeks(S, K, T, r, sigma, typ, div, greek='all', random_seed=random_seed)\n",
    "print('Delta with div : {greek:.3f}'.format(greek=delta_div))\n",
    "print('Gamma with div : {greek:.3f}'.format(greek=gamma_div))\n",
    "print('Theta with div : {greek:.3f}'.format(greek=theta_div))\n",
    "print('Vega with div : {greek:.3f}'.format(greek=vega_div))\n"
   ]
  },
  {
   "cell_type": "markdown",
   "metadata": {
    "collapsed": true
   },
   "source": [
    "# Vector performance"
   ]
  },
  {
   "cell_type": "code",
   "execution_count": 21,
   "metadata": {},
   "outputs": [],
   "source": [
    "VECT_LENGTH = 1000\n",
    "\n",
    "S_array = np.array([S for i in range(VECT_LENGTH)])\n",
    "K_array = np.array([K for i in range(VECT_LENGTH)])\n",
    "T_array = np.array([T for i in range(VECT_LENGTH)])\n",
    "sigma_array = np.array([sigma for i in range(VECT_LENGTH)])\n",
    "r_array = np.array([r for i in range(VECT_LENGTH)])\n",
    "typ_array = np.array([typ for i in range(VECT_LENGTH)])\n",
    "div_array = np.array([div for i in range(VECT_LENGTH)])"
   ]
  },
  {
   "cell_type": "markdown",
   "metadata": {},
   "source": [
    "## Black Scholes"
   ]
  },
  {
   "cell_type": "code",
   "execution_count": 27,
   "metadata": {},
   "outputs": [
    {
     "name": "stdout",
     "output_type": "stream",
     "text": [
      "BS pricing processed 1000 options in 1 ms.\n",
      "BS iv processed 1000 options in 669 ms.\n",
      "BS greeks processed 1000 options in 1 ms.\n"
     ]
    }
   ],
   "source": [
    "BS = pyOptions.Black_Scholes()\n",
    "\n",
    "t_begin = time.time()\n",
    "opt_price = BS.pricing(S_array, K_array, T_array, r_array, sigma_array, typ_array, div_array)\n",
    "t_end = time.time()\n",
    "print('BS pricing processed {length:.0f} options in {dur:.0f} ms.'.format(length=VECT_LENGTH, dur=(t_end-t_begin)*1000))\n",
    "\n",
    "t_begin = time.time()\n",
    "iv = BS.implied_vol(S_array, K_array, T_array, r_array, typ_array, opt_price, div_array)\n",
    "t_end = time.time()\n",
    "print('BS iv processed {length:.0f} options in {dur:.0f} ms.'.format(length=VECT_LENGTH, dur=(t_end-t_begin)*1000))\n",
    "\n",
    "t_begin = time.time()\n",
    "delta, gamma, theta, vega = BS.greeks(S_array, K_array, T_array, r_array, sigma_array, typ_array, div_array)\n",
    "t_end = time.time()\n",
    "print('BS greeks processed {length:.0f} options in {dur:.0f} ms.'.format(length=VECT_LENGTH, dur=(t_end-t_begin)*1000))"
   ]
  },
  {
   "cell_type": "markdown",
   "metadata": {},
   "source": [
    "## Binomial Trees"
   ]
  },
  {
   "cell_type": "code",
   "execution_count": 42,
   "metadata": {},
   "outputs": [
    {
     "name": "stdout",
     "output_type": "stream",
     "text": [
      "BT pricing processed 1000 options in 2874 ms.\n",
      "BT iv processed 1000 options in 23820 ms.\n",
      "BT greeks processed 1000 options in 28205 ms.\n"
     ]
    }
   ],
   "source": [
    "BT = pyOptions.Binomial_Tree()\n",
    "\n",
    "TIME_STEPS = 500\n",
    "\n",
    "t_begin = time.time()\n",
    "opt_price = BT.pricing(S_array, K_array, T_array, r_array, sigma_array, typ_array, div_array, time_steps=TIME_STEPS)\n",
    "t_end = time.time()\n",
    "print('BT pricing processed {length:.0f} options in {dur:.0f} ms.'.format(length=VECT_LENGTH, dur=(t_end-t_begin)*1000))\n",
    "\n",
    "t_begin = time.time()\n",
    "iv = BT.implied_vol(S_array, K_array, T_array, r_array, typ_array, opt_price, div_array, time_steps=TIME_STEPS)\n",
    "t_end = time.time()\n",
    "print('BT iv processed {length:.0f} options in {dur:.0f} ms.'.format(length=VECT_LENGTH, dur=(t_end-t_begin)*1000))\n",
    "\n",
    "t_begin = time.time()\n",
    "delta, gamma, theta, vega = BT.greeks(S_array, K_array, T_array, r_array, sigma_array, typ_array, div_array, time_steps=TIME_STEPS)\n",
    "t_end = time.time()\n",
    "print('BT greeks processed {length:.0f} options in {dur:.0f} ms.'.format(length=VECT_LENGTH, dur=(t_end-t_begin)*1000))"
   ]
  },
  {
   "cell_type": "markdown",
   "metadata": {},
   "source": [
    "## Monte Carlo"
   ]
  },
  {
   "cell_type": "code",
   "execution_count": 34,
   "metadata": {},
   "outputs": [
    {
     "name": "stdout",
     "output_type": "stream",
     "text": [
      "MC pricing processed 1000 options in 1603 ms.\n",
      "MC iv processed 1000 options in 4776 ms.\n",
      "MC greeks processed 1000 options in 16597 ms.\n"
     ]
    }
   ],
   "source": [
    "MC = pyOptions.Monte_Carlo()\n",
    "\n",
    "ITERATIONS = 1000\n",
    "TIME_STEPS = 50\n",
    "RANDOM_SEED = int(time.time())\n",
    "\n",
    "t_begin = time.time()\n",
    "opt_price = MC.pricing(S_array, K_array, T_array, r_array, sigma_array, typ_array, div_array, iterations=ITERATIONS, time_steps=TIME_STEPS, random_seed=RANDOM_SEED)\n",
    "t_end = time.time()\n",
    "print('MC pricing processed {length:.0f} options in {dur:.0f} ms.'.format(length=VECT_LENGTH, dur=(t_end-t_begin)*1000))\n",
    "\n",
    "t_begin = time.time()\n",
    "iv = MC.implied_vol(S_array, K_array, T_array, r_array, typ_array, opt_price, div_array, iterations=ITERATIONS, time_steps=TIME_STEPS, random_seed=RANDOM_SEED)\n",
    "t_end = time.time()\n",
    "print('MC iv processed {length:.0f} options in {dur:.0f} ms.'.format(length=VECT_LENGTH, dur=(t_end-t_begin)*1000))\n",
    "\n",
    "t_begin = time.time()\n",
    "delta, gamma, theta, vega = MC.greeks(S_array, K_array, T_array, r_array, sigma_array, typ_array, div_array, iterations=ITERATIONS, time_steps=TIME_STEPS, random_seed=RANDOM_SEED)\n",
    "t_end = time.time()\n",
    "print('MC greeks processed {length:.0f} options in {dur:.0f} ms.'.format(length=VECT_LENGTH, dur=(t_end-t_begin)*1000))"
   ]
  },
  {
   "cell_type": "code",
   "execution_count": 49,
   "metadata": {},
   "outputs": [
    {
     "data": {
      "text/plain": [
       "508.44940170940168"
      ]
     },
     "execution_count": 49,
     "metadata": {},
     "output_type": "execute_result"
    }
   ],
   "source": [
    "expiration = dt.datetime.strptime('8/15/2020', '%m/%d/%Y')\n",
    "\n",
    "pyOptions.days_to_maturity(expiration)"
   ]
  },
  {
   "cell_type": "code",
   "execution_count": null,
   "metadata": {
    "collapsed": true
   },
   "outputs": [],
   "source": []
  }
 ],
 "metadata": {
  "kernelspec": {
   "display_name": "Python 3",
   "language": "python",
   "name": "python3"
  },
  "language_info": {
   "codemirror_mode": {
    "name": "ipython",
    "version": 3
   },
   "file_extension": ".py",
   "mimetype": "text/x-python",
   "name": "python",
   "nbconvert_exporter": "python",
   "pygments_lexer": "ipython3",
   "version": "3.6.1"
  }
 },
 "nbformat": 4,
 "nbformat_minor": 1
}
